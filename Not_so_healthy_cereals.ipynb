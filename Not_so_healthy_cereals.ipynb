{
 "cells": [
  {
   "cell_type": "code",
   "execution_count": 1,
   "metadata": {},
   "outputs": [],
   "source": [
    "import pandas as pd\n",
    "import matplotlib.pyplot as plt\n",
    "import numpy as np\n",
    "import sklearn as sk\n",
    "import seaborn as sns\n",
    "plt.style.use('seaborn')"
   ]
  },
  {
   "cell_type": "markdown",
   "metadata": {},
   "source": [
    "##  Reading the data and removing the coulumns which wouldnt help us predict whether how healthy is a specific cereal\n",
    "* manufacturer \n",
    "* name\n",
    "* surprisingly vitamins they dont seem to contribute that much because here vitamins just list the vitamins present which could be non essential vitamins and in trace amounts)"
   ]
  },
  {
   "cell_type": "code",
   "execution_count": 2,
   "metadata": {},
   "outputs": [],
   "source": [
    "cereals = pd.read_csv('cereal.csv')\n",
    "cereals.drop(['shelf','name','mfr','type','vitamins'],axis =1,inplace=True)"
   ]
  },
  {
   "cell_type": "code",
   "execution_count": 3,
   "metadata": {},
   "outputs": [
    {
     "data": {
      "text/html": [
       "<div>\n",
       "<style scoped>\n",
       "    .dataframe tbody tr th:only-of-type {\n",
       "        vertical-align: middle;\n",
       "    }\n",
       "\n",
       "    .dataframe tbody tr th {\n",
       "        vertical-align: top;\n",
       "    }\n",
       "\n",
       "    .dataframe thead th {\n",
       "        text-align: right;\n",
       "    }\n",
       "</style>\n",
       "<table border=\"1\" class=\"dataframe\">\n",
       "  <thead>\n",
       "    <tr style=\"text-align: right;\">\n",
       "      <th></th>\n",
       "      <th>calories</th>\n",
       "      <th>protein</th>\n",
       "      <th>fat</th>\n",
       "      <th>sodium</th>\n",
       "      <th>fiber</th>\n",
       "      <th>carbo</th>\n",
       "      <th>sugars</th>\n",
       "      <th>potass</th>\n",
       "      <th>weight</th>\n",
       "      <th>cups</th>\n",
       "      <th>target</th>\n",
       "    </tr>\n",
       "  </thead>\n",
       "  <tbody>\n",
       "    <tr>\n",
       "      <th>0</th>\n",
       "      <td>50</td>\n",
       "      <td>4</td>\n",
       "      <td>0</td>\n",
       "      <td>140</td>\n",
       "      <td>14.0</td>\n",
       "      <td>8.0</td>\n",
       "      <td>0</td>\n",
       "      <td>330</td>\n",
       "      <td>1.00</td>\n",
       "      <td>0.50</td>\n",
       "      <td>93.704912</td>\n",
       "    </tr>\n",
       "    <tr>\n",
       "      <th>1</th>\n",
       "      <td>90</td>\n",
       "      <td>3</td>\n",
       "      <td>0</td>\n",
       "      <td>0</td>\n",
       "      <td>4.0</td>\n",
       "      <td>19.0</td>\n",
       "      <td>0</td>\n",
       "      <td>140</td>\n",
       "      <td>1.00</td>\n",
       "      <td>0.67</td>\n",
       "      <td>74.472949</td>\n",
       "    </tr>\n",
       "    <tr>\n",
       "      <th>2</th>\n",
       "      <td>90</td>\n",
       "      <td>3</td>\n",
       "      <td>0</td>\n",
       "      <td>0</td>\n",
       "      <td>3.0</td>\n",
       "      <td>20.0</td>\n",
       "      <td>0</td>\n",
       "      <td>120</td>\n",
       "      <td>1.00</td>\n",
       "      <td>0.67</td>\n",
       "      <td>72.801787</td>\n",
       "    </tr>\n",
       "    <tr>\n",
       "      <th>3</th>\n",
       "      <td>70</td>\n",
       "      <td>4</td>\n",
       "      <td>1</td>\n",
       "      <td>130</td>\n",
       "      <td>10.0</td>\n",
       "      <td>5.0</td>\n",
       "      <td>6</td>\n",
       "      <td>280</td>\n",
       "      <td>1.00</td>\n",
       "      <td>0.33</td>\n",
       "      <td>68.402973</td>\n",
       "    </tr>\n",
       "    <tr>\n",
       "      <th>4</th>\n",
       "      <td>80</td>\n",
       "      <td>2</td>\n",
       "      <td>0</td>\n",
       "      <td>0</td>\n",
       "      <td>3.0</td>\n",
       "      <td>16.0</td>\n",
       "      <td>0</td>\n",
       "      <td>95</td>\n",
       "      <td>0.83</td>\n",
       "      <td>1.00</td>\n",
       "      <td>68.235885</td>\n",
       "    </tr>\n",
       "    <tr>\n",
       "      <th>...</th>\n",
       "      <td>...</td>\n",
       "      <td>...</td>\n",
       "      <td>...</td>\n",
       "      <td>...</td>\n",
       "      <td>...</td>\n",
       "      <td>...</td>\n",
       "      <td>...</td>\n",
       "      <td>...</td>\n",
       "      <td>...</td>\n",
       "      <td>...</td>\n",
       "      <td>...</td>\n",
       "    </tr>\n",
       "    <tr>\n",
       "      <th>72</th>\n",
       "      <td>110</td>\n",
       "      <td>1</td>\n",
       "      <td>1</td>\n",
       "      <td>180</td>\n",
       "      <td>0.0</td>\n",
       "      <td>12.0</td>\n",
       "      <td>13</td>\n",
       "      <td>55</td>\n",
       "      <td>1.00</td>\n",
       "      <td>1.00</td>\n",
       "      <td>22.736446</td>\n",
       "    </tr>\n",
       "    <tr>\n",
       "      <th>73</th>\n",
       "      <td>110</td>\n",
       "      <td>1</td>\n",
       "      <td>1</td>\n",
       "      <td>180</td>\n",
       "      <td>0.0</td>\n",
       "      <td>12.0</td>\n",
       "      <td>13</td>\n",
       "      <td>65</td>\n",
       "      <td>1.00</td>\n",
       "      <td>1.00</td>\n",
       "      <td>22.396513</td>\n",
       "    </tr>\n",
       "    <tr>\n",
       "      <th>74</th>\n",
       "      <td>120</td>\n",
       "      <td>1</td>\n",
       "      <td>2</td>\n",
       "      <td>220</td>\n",
       "      <td>1.0</td>\n",
       "      <td>12.0</td>\n",
       "      <td>11</td>\n",
       "      <td>45</td>\n",
       "      <td>1.00</td>\n",
       "      <td>1.00</td>\n",
       "      <td>21.871292</td>\n",
       "    </tr>\n",
       "    <tr>\n",
       "      <th>75</th>\n",
       "      <td>120</td>\n",
       "      <td>1</td>\n",
       "      <td>3</td>\n",
       "      <td>210</td>\n",
       "      <td>0.0</td>\n",
       "      <td>13.0</td>\n",
       "      <td>9</td>\n",
       "      <td>45</td>\n",
       "      <td>1.00</td>\n",
       "      <td>0.75</td>\n",
       "      <td>19.823573</td>\n",
       "    </tr>\n",
       "    <tr>\n",
       "      <th>76</th>\n",
       "      <td>120</td>\n",
       "      <td>1</td>\n",
       "      <td>2</td>\n",
       "      <td>220</td>\n",
       "      <td>0.0</td>\n",
       "      <td>12.0</td>\n",
       "      <td>12</td>\n",
       "      <td>35</td>\n",
       "      <td>1.00</td>\n",
       "      <td>0.75</td>\n",
       "      <td>18.042851</td>\n",
       "    </tr>\n",
       "  </tbody>\n",
       "</table>\n",
       "<p>77 rows × 11 columns</p>\n",
       "</div>"
      ],
      "text/plain": [
       "    calories  protein  fat  sodium  fiber  carbo  sugars  potass  weight  \\\n",
       "0         50        4    0     140   14.0    8.0       0     330    1.00   \n",
       "1         90        3    0       0    4.0   19.0       0     140    1.00   \n",
       "2         90        3    0       0    3.0   20.0       0     120    1.00   \n",
       "3         70        4    1     130   10.0    5.0       6     280    1.00   \n",
       "4         80        2    0       0    3.0   16.0       0      95    0.83   \n",
       "..       ...      ...  ...     ...    ...    ...     ...     ...     ...   \n",
       "72       110        1    1     180    0.0   12.0      13      55    1.00   \n",
       "73       110        1    1     180    0.0   12.0      13      65    1.00   \n",
       "74       120        1    2     220    1.0   12.0      11      45    1.00   \n",
       "75       120        1    3     210    0.0   13.0       9      45    1.00   \n",
       "76       120        1    2     220    0.0   12.0      12      35    1.00   \n",
       "\n",
       "    cups     target  \n",
       "0   0.50  93.704912  \n",
       "1   0.67  74.472949  \n",
       "2   0.67  72.801787  \n",
       "3   0.33  68.402973  \n",
       "4   1.00  68.235885  \n",
       "..   ...        ...  \n",
       "72  1.00  22.736446  \n",
       "73  1.00  22.396513  \n",
       "74  1.00  21.871292  \n",
       "75  0.75  19.823573  \n",
       "76  0.75  18.042851  \n",
       "\n",
       "[77 rows x 11 columns]"
      ]
     },
     "execution_count": 3,
     "metadata": {},
     "output_type": "execute_result"
    }
   ],
   "source": [
    "cereals"
   ]
  },
  {
   "cell_type": "markdown",
   "metadata": {},
   "source": [
    "## calculating the ratio of macronutrients like protein and fat and seeing how much of carb is actually fibre and calculating the amount of nutrition value per cal\n",
    "* protein ratio is by weight ratio of cereal for 1 serving or 28 grams how much proteins doesit have\n",
    "* fibre ratio is how much of carbohydrate is actually fibre a.k.a fibre/carbo where fibre and carbo both are in grams\n",
    "* fat ratio is ratio of calories contributed by fat and total calories\n",
    "* so we could say the nutrious part of food is protein and fibre protein helps retain muscle and normally bodily functions and fibre is essential for smooth bowel moments fats are nutrious as well but the fat in cereals is 9 on 10 times a cheap vegetabale oil or hydrogenated oil which is not nutrious and more harmful to body\n",
    "* so we would consider the ratio of calories from protein(each gram of protein has around 4 cal) and calories from fibre(each gram of fibre has around 2 cal) divided by total cal "
   ]
  },
  {
   "cell_type": "code",
   "execution_count": 4,
   "metadata": {},
   "outputs": [],
   "source": [
    "cereals['protein ratio'] = cereals['protein']/(cereals['weight']*28)"
   ]
  },
  {
   "cell_type": "code",
   "execution_count": 5,
   "metadata": {},
   "outputs": [
    {
     "data": {
      "text/html": [
       "<div>\n",
       "<style scoped>\n",
       "    .dataframe tbody tr th:only-of-type {\n",
       "        vertical-align: middle;\n",
       "    }\n",
       "\n",
       "    .dataframe tbody tr th {\n",
       "        vertical-align: top;\n",
       "    }\n",
       "\n",
       "    .dataframe thead th {\n",
       "        text-align: right;\n",
       "    }\n",
       "</style>\n",
       "<table border=\"1\" class=\"dataframe\">\n",
       "  <thead>\n",
       "    <tr style=\"text-align: right;\">\n",
       "      <th></th>\n",
       "      <th>sodium</th>\n",
       "      <th>carbo</th>\n",
       "      <th>sugars</th>\n",
       "      <th>potass</th>\n",
       "      <th>target</th>\n",
       "      <th>protein ratio</th>\n",
       "      <th>fiber ratio</th>\n",
       "      <th>fat ratio</th>\n",
       "      <th>nutrition per cal</th>\n",
       "    </tr>\n",
       "  </thead>\n",
       "  <tbody>\n",
       "    <tr>\n",
       "      <th>0</th>\n",
       "      <td>140</td>\n",
       "      <td>8.0</td>\n",
       "      <td>0</td>\n",
       "      <td>330</td>\n",
       "      <td>93.704912</td>\n",
       "      <td>0.142857</td>\n",
       "      <td>1.750000</td>\n",
       "      <td>0.000000</td>\n",
       "      <td>0.880000</td>\n",
       "    </tr>\n",
       "    <tr>\n",
       "      <th>1</th>\n",
       "      <td>0</td>\n",
       "      <td>19.0</td>\n",
       "      <td>0</td>\n",
       "      <td>140</td>\n",
       "      <td>74.472949</td>\n",
       "      <td>0.107143</td>\n",
       "      <td>0.210526</td>\n",
       "      <td>0.000000</td>\n",
       "      <td>0.222222</td>\n",
       "    </tr>\n",
       "    <tr>\n",
       "      <th>2</th>\n",
       "      <td>0</td>\n",
       "      <td>20.0</td>\n",
       "      <td>0</td>\n",
       "      <td>120</td>\n",
       "      <td>72.801787</td>\n",
       "      <td>0.107143</td>\n",
       "      <td>0.150000</td>\n",
       "      <td>0.000000</td>\n",
       "      <td>0.200000</td>\n",
       "    </tr>\n",
       "    <tr>\n",
       "      <th>3</th>\n",
       "      <td>130</td>\n",
       "      <td>5.0</td>\n",
       "      <td>6</td>\n",
       "      <td>280</td>\n",
       "      <td>68.402973</td>\n",
       "      <td>0.142857</td>\n",
       "      <td>2.000000</td>\n",
       "      <td>0.128571</td>\n",
       "      <td>0.514286</td>\n",
       "    </tr>\n",
       "    <tr>\n",
       "      <th>4</th>\n",
       "      <td>0</td>\n",
       "      <td>16.0</td>\n",
       "      <td>0</td>\n",
       "      <td>95</td>\n",
       "      <td>68.235885</td>\n",
       "      <td>0.086059</td>\n",
       "      <td>0.187500</td>\n",
       "      <td>0.000000</td>\n",
       "      <td>0.175000</td>\n",
       "    </tr>\n",
       "    <tr>\n",
       "      <th>...</th>\n",
       "      <td>...</td>\n",
       "      <td>...</td>\n",
       "      <td>...</td>\n",
       "      <td>...</td>\n",
       "      <td>...</td>\n",
       "      <td>...</td>\n",
       "      <td>...</td>\n",
       "      <td>...</td>\n",
       "      <td>...</td>\n",
       "    </tr>\n",
       "    <tr>\n",
       "      <th>72</th>\n",
       "      <td>180</td>\n",
       "      <td>12.0</td>\n",
       "      <td>13</td>\n",
       "      <td>55</td>\n",
       "      <td>22.736446</td>\n",
       "      <td>0.035714</td>\n",
       "      <td>0.000000</td>\n",
       "      <td>0.081818</td>\n",
       "      <td>0.036364</td>\n",
       "    </tr>\n",
       "    <tr>\n",
       "      <th>73</th>\n",
       "      <td>180</td>\n",
       "      <td>12.0</td>\n",
       "      <td>13</td>\n",
       "      <td>65</td>\n",
       "      <td>22.396513</td>\n",
       "      <td>0.035714</td>\n",
       "      <td>0.000000</td>\n",
       "      <td>0.081818</td>\n",
       "      <td>0.036364</td>\n",
       "    </tr>\n",
       "    <tr>\n",
       "      <th>74</th>\n",
       "      <td>220</td>\n",
       "      <td>12.0</td>\n",
       "      <td>11</td>\n",
       "      <td>45</td>\n",
       "      <td>21.871292</td>\n",
       "      <td>0.035714</td>\n",
       "      <td>0.083333</td>\n",
       "      <td>0.150000</td>\n",
       "      <td>0.050000</td>\n",
       "    </tr>\n",
       "    <tr>\n",
       "      <th>75</th>\n",
       "      <td>210</td>\n",
       "      <td>13.0</td>\n",
       "      <td>9</td>\n",
       "      <td>45</td>\n",
       "      <td>19.823573</td>\n",
       "      <td>0.035714</td>\n",
       "      <td>0.000000</td>\n",
       "      <td>0.225000</td>\n",
       "      <td>0.033333</td>\n",
       "    </tr>\n",
       "    <tr>\n",
       "      <th>76</th>\n",
       "      <td>220</td>\n",
       "      <td>12.0</td>\n",
       "      <td>12</td>\n",
       "      <td>35</td>\n",
       "      <td>18.042851</td>\n",
       "      <td>0.035714</td>\n",
       "      <td>0.000000</td>\n",
       "      <td>0.150000</td>\n",
       "      <td>0.033333</td>\n",
       "    </tr>\n",
       "  </tbody>\n",
       "</table>\n",
       "<p>77 rows × 9 columns</p>\n",
       "</div>"
      ],
      "text/plain": [
       "    sodium  carbo  sugars  potass     target  protein ratio  fiber ratio  \\\n",
       "0      140    8.0       0     330  93.704912       0.142857     1.750000   \n",
       "1        0   19.0       0     140  74.472949       0.107143     0.210526   \n",
       "2        0   20.0       0     120  72.801787       0.107143     0.150000   \n",
       "3      130    5.0       6     280  68.402973       0.142857     2.000000   \n",
       "4        0   16.0       0      95  68.235885       0.086059     0.187500   \n",
       "..     ...    ...     ...     ...        ...            ...          ...   \n",
       "72     180   12.0      13      55  22.736446       0.035714     0.000000   \n",
       "73     180   12.0      13      65  22.396513       0.035714     0.000000   \n",
       "74     220   12.0      11      45  21.871292       0.035714     0.083333   \n",
       "75     210   13.0       9      45  19.823573       0.035714     0.000000   \n",
       "76     220   12.0      12      35  18.042851       0.035714     0.000000   \n",
       "\n",
       "    fat ratio  nutrition per cal  \n",
       "0    0.000000           0.880000  \n",
       "1    0.000000           0.222222  \n",
       "2    0.000000           0.200000  \n",
       "3    0.128571           0.514286  \n",
       "4    0.000000           0.175000  \n",
       "..        ...                ...  \n",
       "72   0.081818           0.036364  \n",
       "73   0.081818           0.036364  \n",
       "74   0.150000           0.050000  \n",
       "75   0.225000           0.033333  \n",
       "76   0.150000           0.033333  \n",
       "\n",
       "[77 rows x 9 columns]"
      ]
     },
     "execution_count": 5,
     "metadata": {},
     "output_type": "execute_result"
    }
   ],
   "source": [
    "cereals['fiber ratio'] = cereals['fiber']/cereals['carbo']\n",
    "cereals['fat ratio'] = cereals['fat']*9/(cereals['calories'])\n",
    "cereals['nutrition per cal'] = ((cereals['protein']*4)+(cereals['fiber']*2))/cereals['calories']\n",
    "cereals.drop(['calories','protein','fat','fiber','weight','cups'],axis=1,inplace=True)\n",
    "cereals"
   ]
  },
  {
   "cell_type": "code",
   "execution_count": 6,
   "metadata": {},
   "outputs": [
    {
     "data": {
      "text/html": [
       "<div>\n",
       "<style scoped>\n",
       "    .dataframe tbody tr th:only-of-type {\n",
       "        vertical-align: middle;\n",
       "    }\n",
       "\n",
       "    .dataframe tbody tr th {\n",
       "        vertical-align: top;\n",
       "    }\n",
       "\n",
       "    .dataframe thead th {\n",
       "        text-align: right;\n",
       "    }\n",
       "</style>\n",
       "<table border=\"1\" class=\"dataframe\">\n",
       "  <thead>\n",
       "    <tr style=\"text-align: right;\">\n",
       "      <th></th>\n",
       "      <th>sodium</th>\n",
       "      <th>carbo</th>\n",
       "      <th>sugars</th>\n",
       "      <th>potass</th>\n",
       "      <th>target</th>\n",
       "      <th>protein ratio</th>\n",
       "      <th>fiber ratio</th>\n",
       "      <th>fat ratio</th>\n",
       "      <th>nutrition per cal</th>\n",
       "    </tr>\n",
       "  </thead>\n",
       "  <tbody>\n",
       "    <tr>\n",
       "      <th>0</th>\n",
       "      <td>140</td>\n",
       "      <td>8.0</td>\n",
       "      <td>0</td>\n",
       "      <td>330</td>\n",
       "      <td>93.704912</td>\n",
       "      <td>0.142857</td>\n",
       "      <td>1.750000</td>\n",
       "      <td>0.000000</td>\n",
       "      <td>0.880000</td>\n",
       "    </tr>\n",
       "    <tr>\n",
       "      <th>1</th>\n",
       "      <td>0</td>\n",
       "      <td>19.0</td>\n",
       "      <td>0</td>\n",
       "      <td>140</td>\n",
       "      <td>74.472949</td>\n",
       "      <td>0.107143</td>\n",
       "      <td>0.210526</td>\n",
       "      <td>0.000000</td>\n",
       "      <td>0.222222</td>\n",
       "    </tr>\n",
       "    <tr>\n",
       "      <th>2</th>\n",
       "      <td>0</td>\n",
       "      <td>20.0</td>\n",
       "      <td>0</td>\n",
       "      <td>120</td>\n",
       "      <td>72.801787</td>\n",
       "      <td>0.107143</td>\n",
       "      <td>0.150000</td>\n",
       "      <td>0.000000</td>\n",
       "      <td>0.200000</td>\n",
       "    </tr>\n",
       "    <tr>\n",
       "      <th>3</th>\n",
       "      <td>130</td>\n",
       "      <td>5.0</td>\n",
       "      <td>6</td>\n",
       "      <td>280</td>\n",
       "      <td>68.402973</td>\n",
       "      <td>0.142857</td>\n",
       "      <td>2.000000</td>\n",
       "      <td>0.128571</td>\n",
       "      <td>0.514286</td>\n",
       "    </tr>\n",
       "    <tr>\n",
       "      <th>4</th>\n",
       "      <td>0</td>\n",
       "      <td>16.0</td>\n",
       "      <td>0</td>\n",
       "      <td>95</td>\n",
       "      <td>68.235885</td>\n",
       "      <td>0.086059</td>\n",
       "      <td>0.187500</td>\n",
       "      <td>0.000000</td>\n",
       "      <td>0.175000</td>\n",
       "    </tr>\n",
       "    <tr>\n",
       "      <th>...</th>\n",
       "      <td>...</td>\n",
       "      <td>...</td>\n",
       "      <td>...</td>\n",
       "      <td>...</td>\n",
       "      <td>...</td>\n",
       "      <td>...</td>\n",
       "      <td>...</td>\n",
       "      <td>...</td>\n",
       "      <td>...</td>\n",
       "    </tr>\n",
       "    <tr>\n",
       "      <th>72</th>\n",
       "      <td>180</td>\n",
       "      <td>12.0</td>\n",
       "      <td>13</td>\n",
       "      <td>55</td>\n",
       "      <td>22.736446</td>\n",
       "      <td>0.035714</td>\n",
       "      <td>0.000000</td>\n",
       "      <td>0.081818</td>\n",
       "      <td>0.036364</td>\n",
       "    </tr>\n",
       "    <tr>\n",
       "      <th>73</th>\n",
       "      <td>180</td>\n",
       "      <td>12.0</td>\n",
       "      <td>13</td>\n",
       "      <td>65</td>\n",
       "      <td>22.396513</td>\n",
       "      <td>0.035714</td>\n",
       "      <td>0.000000</td>\n",
       "      <td>0.081818</td>\n",
       "      <td>0.036364</td>\n",
       "    </tr>\n",
       "    <tr>\n",
       "      <th>74</th>\n",
       "      <td>220</td>\n",
       "      <td>12.0</td>\n",
       "      <td>11</td>\n",
       "      <td>45</td>\n",
       "      <td>21.871292</td>\n",
       "      <td>0.035714</td>\n",
       "      <td>0.083333</td>\n",
       "      <td>0.150000</td>\n",
       "      <td>0.050000</td>\n",
       "    </tr>\n",
       "    <tr>\n",
       "      <th>75</th>\n",
       "      <td>210</td>\n",
       "      <td>13.0</td>\n",
       "      <td>9</td>\n",
       "      <td>45</td>\n",
       "      <td>19.823573</td>\n",
       "      <td>0.035714</td>\n",
       "      <td>0.000000</td>\n",
       "      <td>0.225000</td>\n",
       "      <td>0.033333</td>\n",
       "    </tr>\n",
       "    <tr>\n",
       "      <th>76</th>\n",
       "      <td>220</td>\n",
       "      <td>12.0</td>\n",
       "      <td>12</td>\n",
       "      <td>35</td>\n",
       "      <td>18.042851</td>\n",
       "      <td>0.035714</td>\n",
       "      <td>0.000000</td>\n",
       "      <td>0.150000</td>\n",
       "      <td>0.033333</td>\n",
       "    </tr>\n",
       "  </tbody>\n",
       "</table>\n",
       "<p>77 rows × 9 columns</p>\n",
       "</div>"
      ],
      "text/plain": [
       "    sodium  carbo  sugars  potass     target  protein ratio  fiber ratio  \\\n",
       "0      140    8.0       0     330  93.704912       0.142857     1.750000   \n",
       "1        0   19.0       0     140  74.472949       0.107143     0.210526   \n",
       "2        0   20.0       0     120  72.801787       0.107143     0.150000   \n",
       "3      130    5.0       6     280  68.402973       0.142857     2.000000   \n",
       "4        0   16.0       0      95  68.235885       0.086059     0.187500   \n",
       "..     ...    ...     ...     ...        ...            ...          ...   \n",
       "72     180   12.0      13      55  22.736446       0.035714     0.000000   \n",
       "73     180   12.0      13      65  22.396513       0.035714     0.000000   \n",
       "74     220   12.0      11      45  21.871292       0.035714     0.083333   \n",
       "75     210   13.0       9      45  19.823573       0.035714     0.000000   \n",
       "76     220   12.0      12      35  18.042851       0.035714     0.000000   \n",
       "\n",
       "    fat ratio  nutrition per cal  \n",
       "0    0.000000           0.880000  \n",
       "1    0.000000           0.222222  \n",
       "2    0.000000           0.200000  \n",
       "3    0.128571           0.514286  \n",
       "4    0.000000           0.175000  \n",
       "..        ...                ...  \n",
       "72   0.081818           0.036364  \n",
       "73   0.081818           0.036364  \n",
       "74   0.150000           0.050000  \n",
       "75   0.225000           0.033333  \n",
       "76   0.150000           0.033333  \n",
       "\n",
       "[77 rows x 9 columns]"
      ]
     },
     "execution_count": 6,
     "metadata": {},
     "output_type": "execute_result"
    }
   ],
   "source": [
    "cereals"
   ]
  },
  {
   "cell_type": "markdown",
   "metadata": {},
   "source": [
    "## So here we check some distribution to validate our common sense that there are not alot of healthy cereal options in the market "
   ]
  },
  {
   "cell_type": "markdown",
   "metadata": {},
   "source": [
    "## This a distrubution of nutrition per cal as you can see the majority of the products in sample space have less than 30% of actual nutritional value(a.k.a proteins and fibre)"
   ]
  },
  {
   "cell_type": "code",
   "execution_count": 7,
   "metadata": {},
   "outputs": [
    {
     "data": {
      "image/png": "[encoded data removed]",
      "text/plain": [
       "<Figure size 576x396 with 1 Axes>"
      ]
     },
     "metadata": {},
     "output_type": "display_data"
    }
   ],
   "source": [
    "cereals['nutrition per cal'].hist();"
   ]
  },
  {
   "cell_type": "markdown",
   "metadata": {},
   "source": [
    "## The story remains the same around 40 samples out of 80 have protein percentage of less then 8% and only few have around 20% protein in them which again wouldnt be of high quality but better than rest"
   ]
  },
  {
   "cell_type": "code",
   "execution_count": 8,
   "metadata": {},
   "outputs": [
    {
     "data": {
      "text/plain": [
       "<matplotlib.axes._subplots.AxesSubplot at 0xbc93448>"
      ]
     },
     "execution_count": 8,
     "metadata": {},
     "output_type": "execute_result"
    },
    {
     "data": {
      "image/png": "[encoded data removed]",
      "text/plain": [
       "<Figure size 576x396 with 1 Axes>"
      ]
     },
     "metadata": {},
     "output_type": "display_data"
    }
   ],
   "source": [
    "cereals['protein ratio'].hist();"
   ]
  },
  {
   "cell_type": "markdown",
   "metadata": {},
   "source": [
    "## So as you can see only 5 cereals have 1 to 1 or more ratio of fibre to carb because in all othe cereals almost all of these carbs comes in the form of added sugar "
   ]
  },
  {
   "cell_type": "code",
   "execution_count": 9,
   "metadata": {},
   "outputs": [
    {
     "data": {
      "text/plain": [
       "<matplotlib.axes._subplots.AxesSubplot at 0xbc88788>"
      ]
     },
     "execution_count": 9,
     "metadata": {},
     "output_type": "execute_result"
    },
    {
     "data": {
      "image/png": "[encoded data removed]",
      "text/plain": [
       "<Figure size 576x396 with 1 Axes>"
      ]
     },
     "metadata": {},
     "output_type": "display_data"
    }
   ],
   "source": [
    "cereals['fiber ratio'].hist()"
   ]
  },
  {
   "cell_type": "markdown",
   "metadata": {},
   "source": [
    "## fat is not that big of issue in cereals as most companies try to make their cereals look \"healthy\" but I added this feature so the model could generallize well and give you a semi decent accurate of how bad other deep fried savoury food could be"
   ]
  },
  {
   "cell_type": "code",
   "execution_count": 10,
   "metadata": {},
   "outputs": [
    {
     "data": {
      "image/png": "[encoded data removed]",
      "text/plain": [
       "<Figure size 576x396 with 1 Axes>"
      ]
     },
     "metadata": {},
     "output_type": "display_data"
    }
   ],
   "source": [
    "cereals['fat ratio'].hist();"
   ]
  },
  {
   "cell_type": "code",
   "execution_count": 11,
   "metadata": {},
   "outputs": [
    {
     "data": {
      "text/plain": [
       "<matplotlib.axes._subplots.AxesSubplot at 0xbe2c048>"
      ]
     },
     "execution_count": 11,
     "metadata": {},
     "output_type": "execute_result"
    },
    {
     "data": {
      "image/png": "[encoded data removed]",
      "text/plain": [
       "<Figure size 576x396 with 1 Axes>"
      ]
     },
     "metadata": {},
     "output_type": "display_data"
    }
   ],
   "source": [
    "cereals['target'].hist()"
   ]
  },
  {
   "cell_type": "markdown",
   "metadata": {},
   "source": [
    "##  lets check co-reation between aur feature which we extracted from existing data"
   ]
  },
  {
   "cell_type": "code",
   "execution_count": 12,
   "metadata": {},
   "outputs": [
    {
     "data": {
      "text/plain": [
       "carbo                0.052055\n",
       "sugars              -0.759675\n",
       "potass               0.380165\n",
       "target               1.000000\n",
       "protein ratio        0.579989\n",
       "fiber ratio          0.311678\n",
       "fat ratio           -0.363886\n",
       "nutrition per cal    0.725456\n",
       "Name: target, dtype: float64"
      ]
     },
     "execution_count": 12,
     "metadata": {},
     "output_type": "execute_result"
    }
   ],
   "source": [
    "cereals[cereals.columns[1:]].corr()['target'][:]"
   ]
  },
  {
   "cell_type": "markdown",
   "metadata": {},
   "source": [
    "## so two of most higly co-related features are nutrition per cal and sugar no doubts here nutrition per cal is positive high correlation i.e if a product has high nutrition per cal the model will predict target value high as well and sugar is negative high correlation i.e if sugar in a cereal increases the model predicts target value low"
   ]
  },
  {
   "cell_type": "markdown",
   "metadata": {},
   "source": [
    "## Just validiating from scatter plots the correlation between our features and target "
   ]
  },
  {
   "cell_type": "code",
   "execution_count": 20,
   "metadata": {},
   "outputs": [
    {
     "data": {
      "text/plain": [
       "<matplotlib.collections.PathCollection at 0xd37af08>"
      ]
     },
     "execution_count": 20,
     "metadata": {},
     "output_type": "execute_result"
    },
    {
     "data": {
      "image/png": "[encoded data removed]",
      "text/plain": [
       "<Figure size 576x396 with 1 Axes>"
      ]
     },
     "metadata": {},
     "output_type": "display_data"
    }
   ],
   "source": [
    "fig,ax =plt.subplots()\n",
    "ax.scatter(x= cereals['sugars'],y= cereals['target'])"
   ]
  },
  {
   "cell_type": "markdown",
   "metadata": {},
   "source": [
    "## looks like the correlation does exist and we can  move ahead to plotting and from scatter plot it looks like linear regression could do well as we can fit a straight line that rough tarces our data points  "
   ]
  },
  {
   "cell_type": "code",
   "execution_count": 14,
   "metadata": {},
   "outputs": [],
   "source": [
    "from sklearn.model_selection import train_test_split\n",
    "x = cereals.drop('target',axis=1)\n",
    "y = cereals['target']\n",
    "x_train,x_test,y_train,y_test = train_test_split(x,y,test_size=0.2)"
   ]
  },
  {
   "cell_type": "markdown",
   "metadata": {},
   "source": [
    "## from below results we could say our model is pretty good with around 0.9 r^2 score and mean absolute error ranging from 0.5 to 9 where 9 occurred only once in 20 cv otherwise mae stayed in betweem 0-4"
   ]
  },
  {
   "cell_type": "code",
   "execution_count": 15,
   "metadata": {},
   "outputs": [
    {
     "data": {
      "text/plain": [
       "0.9597776409401014"
      ]
     },
     "execution_count": 15,
     "metadata": {},
     "output_type": "execute_result"
    }
   ],
   "source": [
    "from sklearn.linear_model import LinearRegression\n",
    "reg = LinearRegression()\n",
    "reg.fit(x_train,y_train)\n",
    "reg.score(x_test,y_test)"
   ]
  },
  {
   "cell_type": "code",
   "execution_count": 31,
   "metadata": {},
   "outputs": [
    {
     "data": {
      "text/plain": [
       "2.226160502784332"
      ]
     },
     "execution_count": 31,
     "metadata": {},
     "output_type": "execute_result"
    }
   ],
   "source": [
    "from sklearn.metrics import mean_absolute_error\n",
    "y_preds = reg.predict(x_test)\n",
    "mse = mean_absolute_error(y_test,y_preds)\n",
    "mse"
   ]
  },
  {
   "cell_type": "code",
   "execution_count": 32,
   "metadata": {},
   "outputs": [
    {
     "name": "stderr",
     "output_type": "stream",
     "text": [
      "[Parallel(n_jobs=-1)]: Using backend LokyBackend with 4 concurrent workers.\n",
      "[Parallel(n_jobs=-1)]: Done  20 out of  20 | elapsed:    0.0s finished\n"
     ]
    },
    {
     "data": {
      "text/plain": [
       "array([-9.57733755, -2.70685467, -1.70368713, -1.76855995, -3.06215952,\n",
       "       -3.18632009, -1.26632185, -2.18360796, -2.57991678, -1.12728525,\n",
       "       -1.30754722, -2.79156919, -2.10057217, -2.44367984, -2.05837677,\n",
       "       -1.96248517, -2.89302406, -0.61808474, -1.69905765, -1.86642399])"
      ]
     },
     "execution_count": 32,
     "metadata": {},
     "output_type": "execute_result"
    }
   ],
   "source": [
    "from sklearn.model_selection import cross_val_score \n",
    "cross_val_score(reg,x,y,cv=20,scoring='neg_mean_absolute_error',verbose=2,n_jobs=-1)"
   ]
  },
  {
   "cell_type": "markdown",
   "metadata": {},
   "source": [
    "## so now just to to verify if the model would generalize well on foods which are not cereals here we pass it nutritional facts for a samosa(a deep fried indian snack) so lets see what score does it predict "
   ]
  },
  {
   "cell_type": "code",
   "execution_count": 17,
   "metadata": {},
   "outputs": [
    {
     "data": {
      "text/plain": [
       "array([20.92877701, 20.92877701])"
      ]
     },
     "execution_count": 17,
     "metadata": {},
     "output_type": "execute_result"
    }
   ],
   "source": [
    "reg.predict([[220,8.96,0.35,52,0.03,0.05,0.52,0.071],\n",
    "             [220,8.96,0.35,52,0.03,0.05,0.52,0.071]])"
   ]
  },
  {
   "cell_type": "markdown",
   "metadata": {},
   "source": [
    "##  no doubt among the worst health scores in the dataset so we could conclude that this model generalizes well for not only cereals but other foods as well"
   ]
  },
  {
   "cell_type": "code",
   "execution_count": null,
   "metadata": {},
   "outputs": [],
   "source": []
  }
 ],
 "metadata": {
  "kernelspec": {
   "display_name": "Python 3",
   "language": "python",
   "name": "python3"
  },
  "language_info": {
   "codemirror_mode": {
    "name": "ipython",
    "version": 3
   },
   "file_extension": ".py",
   "mimetype": "text/x-python",
   "name": "python",
   "nbconvert_exporter": "python",
   "pygments_lexer": "ipython3",
   "version": "3.7.7"
  }
 },
 "nbformat": 4,
 "nbformat_minor": 4
}
